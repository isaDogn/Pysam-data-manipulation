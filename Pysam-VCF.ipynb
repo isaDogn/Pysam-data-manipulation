{
 "cells": [
  {
   "cell_type": "code",
   "execution_count": 91,
   "id": "efa4cdb2-2e3c-4029-a5f8-f590cb8a23a1",
   "metadata": {},
   "outputs": [],
   "source": [
    "import pysam\n",
    "import pandas as pd"
   ]
  },
  {
   "cell_type": "code",
   "execution_count": 92,
   "id": "a0ed3814-3fc2-42ab-b35d-e7f937a3cf47",
   "metadata": {},
   "outputs": [],
   "source": [
    "vcf = pysam.VariantFile(\"variants.raw.vcf\" , \"r\")"
   ]
  },
  {
   "cell_type": "code",
   "execution_count": 93,
   "id": "ff346704-eeb0-4233-ae99-920a9cf7703f",
   "metadata": {},
   "outputs": [
    {
     "name": "stdout",
     "output_type": "stream",
     "text": [
      "             CHROM     POS REF ALT        QUAL    FORMAT  \\\n",
      "0      NC_008611.1      78   C   T  225.417007  [GT, PL]   \n",
      "1      NC_008611.1     432   G   T  225.417007  [GT, PL]   \n",
      "2      NC_008611.1     478   G   A  121.415001  [GT, PL]   \n",
      "3      NC_008611.1     666   C   G  225.417007  [GT, PL]   \n",
      "4      NC_008611.1     672   G   A  225.417007  [GT, PL]   \n",
      "...            ...     ...  ..  ..         ...       ...   \n",
      "32948  NC_005916.1  173268   T   C  225.417007  [GT, PL]   \n",
      "32949  NC_005916.1  173674   C   T  225.417007  [GT, PL]   \n",
      "32950  NC_005916.1  173675   A   C  225.417007  [GT, PL]   \n",
      "32951  NC_005916.1  173714   C   G  225.417007  [GT, PL]   \n",
      "32952  NC_005916.1  173933   T   C  225.417007  [GT, PL]   \n",
      "\n",
      "                                               INFO  \n",
      "0      [DP, VDB, SGB, MQSBZ, MQ0F, AC, AN, DP4, MQ]  \n",
      "1      [DP, VDB, SGB, MQSBZ, MQ0F, AC, AN, DP4, MQ]  \n",
      "2      [DP, VDB, SGB, MQSBZ, MQ0F, AC, AN, DP4, MQ]  \n",
      "3      [DP, VDB, SGB, MQSBZ, MQ0F, AC, AN, DP4, MQ]  \n",
      "4      [DP, VDB, SGB, MQSBZ, MQ0F, AC, AN, DP4, MQ]  \n",
      "...                                             ...  \n",
      "32948  [DP, VDB, SGB, MQSBZ, MQ0F, AC, AN, DP4, MQ]  \n",
      "32949  [DP, VDB, SGB, MQSBZ, MQ0F, AC, AN, DP4, MQ]  \n",
      "32950  [DP, VDB, SGB, MQSBZ, MQ0F, AC, AN, DP4, MQ]  \n",
      "32951  [DP, VDB, SGB, MQSBZ, MQ0F, AC, AN, DP4, MQ]  \n",
      "32952  [DP, VDB, SGB, MQSBZ, MQ0F, AC, AN, DP4, MQ]  \n",
      "\n",
      "[32953 rows x 7 columns]\n",
      "SNP Count: 31295\n",
      "Indel Count: 1658\n"
     ]
    }
   ],
   "source": [
    "\n",
    "data = []\n",
    "for variant in vcf:\n",
    "    variant_info = {\n",
    "        \"CHROM\" : variant.chrom,\n",
    "        # \"ID\" : variant.id,\n",
    "        \"POS\": variant.pos,\n",
    "        \"REF\" :  variant.ref,\n",
    "        \"ALT\": ','.join(variant.alts),\n",
    "        \"QUAL\": variant.qual,\n",
    "        # \"start\" : variant.start,\n",
    "        # \"stop\" : variant.stop,\n",
    "        # \"alleles\" : variant.alleles,\n",
    "        \"FORMAT\" : variant.format,\n",
    "        \"INFO\" : variant.info,\n",
    "        # \"rlen\" :  variant.rlen,\n",
    "        \n",
    "    }\n",
    "    data.append(variant_info) \n",
    "df = pd.DataFrame(data)    \n",
    "print(df)\n",
    "snps = df[(df['REF'].str.len() == 1) & (df['ALT'].str.len() == 1)]\n",
    "indels = df[(df['REF'].str.len() != 1) | (df['ALT'].str.len() != 1)]\n",
    "\n",
    "snps_count = len(snps)\n",
    "indels_count = len(indels)\n",
    "\n",
    "print(f\"SNP Count: {snps_count}\")\n",
    "print(f\"Indel Count: {indels_count}\")"
   ]
  },
  {
   "cell_type": "code",
   "execution_count": 94,
   "id": "832180da-1860-4af3-aff9-00a9c45e121b",
   "metadata": {},
   "outputs": [
    {
     "data": {
      "image/png": "[encoded data removed]",
      "text/plain": [
       "<Figure size 640x480 with 1 Axes>"
      ]
     },
     "metadata": {},
     "output_type": "display_data"
    },
    {
     "name": "stdout",
     "output_type": "stream",
     "text": [
      "Quality Score Summary:\n",
      "count    32953.000000\n",
      "mean       207.409669\n",
      "std         46.435285\n",
      "min          3.222230\n",
      "25%        225.417007\n",
      "50%        225.417007\n",
      "75%        225.417007\n",
      "max        228.414001\n",
      "Name: QUAL, dtype: float64\n"
     ]
    }
   ],
   "source": [
    "import matplotlib.pyplot as plt\n",
    "\n",
    "# Kalite skoru dağılımı\n",
    "plt.hist(df['QUAL'].dropna(), bins=50)\n",
    "plt.xlabel('Quality Score')\n",
    "plt.ylabel('Frequency')\n",
    "plt.title('Quality Score Distribution')\n",
    "plt.show()\n",
    "qual_summary = df['QUAL'].describe()\n",
    "print(\"Quality Score Summary:\")\n",
    "print(qual_summary)"
   ]
  },
  {
   "cell_type": "code",
   "execution_count": 95,
   "id": "c0ca0f96-7dfb-4083-8ea5-13f90236104e",
   "metadata": {},
   "outputs": [],
   "source": [
    "df.to_csv(\"vcf_analysis_results.csv\", index=False)"
   ]
  },
  {
   "cell_type": "code",
   "execution_count": 100,
   "id": "6b50d0f1-a16b-4618-8706-38db72137a98",
   "metadata": {},
   "outputs": [
    {
     "name": "stdout",
     "output_type": "stream",
     "text": [
      "             CHROM     POS    ID REF ALT        QUAL FILTER  INFO Annotation\n",
      "0      NC_008611.1      78  None   C   T  225.417007           17        SNP\n",
      "1      NC_008611.1     432  None   G   T  225.417007           16        SNP\n",
      "2      NC_008611.1     478  None   G   A  121.415001            5        SNP\n",
      "3      NC_008611.1     666  None   C   G  225.417007           16        SNP\n",
      "4      NC_008611.1     672  None   G   A  225.417007           16        SNP\n",
      "...            ...     ...   ...  ..  ..         ...    ...   ...        ...\n",
      "32948  NC_005916.1  173268  None   T   C  225.417007           25        SNP\n",
      "32949  NC_005916.1  173674  None   C   T  225.417007           39        SNP\n",
      "32950  NC_005916.1  173675  None   A   C  225.417007           39        SNP\n",
      "32951  NC_005916.1  173714  None   C   G  225.417007           39        SNP\n",
      "32952  NC_005916.1  173933  None   T   C  225.417007           27        SNP\n",
      "\n",
      "[32953 rows x 9 columns]\n"
     ]
    }
   ],
   "source": [
    "def read_vcf(vcf_path):\n",
    "    \"\"\"VCF dosyasını okur ve bir pandas DataFrame olarak döner.\"\"\"\n",
    "    vcf_in = pysam.VariantFile(vcf_path)\n",
    "    records = []\n",
    "    \n",
    "    for record in vcf_in.fetch():\n",
    "        records.append({\n",
    "            \"CHROM\": record.chrom,\n",
    "            \"POS\": record.pos,\n",
    "            \"ID\": record.id,\n",
    "            \"REF\": record.ref,\n",
    "            \"ALT\": ','.join(record.alts),\n",
    "            \"QUAL\": record.qual,\n",
    "            \"FILTER\": ','.join(record.filter.keys()),\n",
    "            \"INFO\": record.info[\"DP\"]\n",
    "        })\n",
    "    \n",
    "    return pd.DataFrame(records)\n",
    "\n",
    "def annotate_variant(variant):\n",
    "    \"\"\"Varyant için basit bir anotasyon yapar.\"\"\"\n",
    "    chrom = variant['CHROM']\n",
    "    pos = variant['POS']\n",
    "    ref = variant['REF']\n",
    "    alt = variant['ALT']\n",
    "    \n",
    "    if len(ref) == 1 and len(alt) == 1:\n",
    "        annotation = \"SNP\"\n",
    "    else:\n",
    "        annotation = \"Indel\"\n",
    "    \n",
    "    return annotation\n",
    "\n",
    "def annotate_vcf(vcf_df):\n",
    "    \"\"\"VCF DataFrame'i için anotasyon yapar.\"\"\"\n",
    "    vcf_df['Annotation'] = vcf_df.apply(annotate_variant, axis=1)\n",
    "    return vcf_df\n",
    "    \n",
    "vcf_path = \"variants.raw.vcf\"\n",
    "vcf_df = read_vcf(vcf_path)\n",
    "\n",
    "annotated_vcf_df = annotate_vcf(vcf_df)\n",
    "\n",
    "print(annotated_vcf_df)\n",
    "annotated_vcf_df.to_csv(\"vcf_annotate_results.csv\", index=False)"
   ]
  },
  {
   "cell_type": "code",
   "execution_count": 101,
   "id": "382f21a7-3356-4b51-a9cb-121bad2ce76c",
   "metadata": {},
   "outputs": [],
   "source": [
    "vcf2 = pysam.VariantFile(\"variants.raw.vcf\" , \"r\")"
   ]
  },
  {
   "cell_type": "code",
   "execution_count": 102,
   "id": "0ca9686f-c1fe-4d68-a868-2b9bc381655c",
   "metadata": {},
   "outputs": [
    {
     "name": "stdout",
     "output_type": "stream",
     "text": [
      "         POS            REF  \\\n",
      "0       1627             CG   \n",
      "1       5178            GAA   \n",
      "2      12177             CG   \n",
      "3      13519            CGG   \n",
      "4      25291     GCTGGCCGTA   \n",
      "...      ...            ...   \n",
      "1653   22743           GCCC   \n",
      "1654   25216          CGGGG   \n",
      "1655  139357             TG   \n",
      "1656  140316  TCCCTCCACGCCC   \n",
      "1657  159564       GGACCGCC   \n",
      "\n",
      "                                                    ALT   START    STOP  \\\n",
      "0                                                   CGG    1626    1628   \n",
      "1                                                  GAAA    5177    5180   \n",
      "2                                                     C   12176   12178   \n",
      "3                                                    CG   13518   13521   \n",
      "4     GCTGGCCGTACTCGGGCGGCGCCTGACCGTAGTCGGATGGGGCCTG...   25290   25300   \n",
      "...                                                 ...     ...     ...   \n",
      "1653                                                 GC   22742   22746   \n",
      "1654                                             CGGGGG   25215   25220   \n",
      "1655                                                  T  139356  139358   \n",
      "1656                            TCCCTCCACGCCCCTCCACGCCC  140315  140328   \n",
      "1657                      GGACCGCCAGGGCTCCGGCGTTGACCGCC  159563  159571   \n",
      "\n",
      "                                                ALLELEs        QUAL FILTER  \n",
      "0                                             (CG, CGG)  225.417007   PASS  \n",
      "1                                           (GAA, GAAA)  225.417007   PASS  \n",
      "2                                               (CG, C)  224.417007   PASS  \n",
      "3                                             (CGG, CG)  210.417007   PASS  \n",
      "4     (GCTGGCCGTA, GCTGGCCGTACTCGGGCGGCGCCTGACCGTAGT...   47.704899   PASS  \n",
      "...                                                 ...         ...    ...  \n",
      "1653                                         (GCCC, GC)   84.415001   PASS  \n",
      "1654                                    (CGGGG, CGGGGG)  109.228996   PASS  \n",
      "1655                                            (TG, T)  225.417007   PASS  \n",
      "1656           (TCCCTCCACGCCC, TCCCTCCACGCCCCTCCACGCCC)  228.292999   PASS  \n",
      "1657          (GGACCGCC, GGACCGCCAGGGCTCCGGCGTTGACCGCC)  132.809998   PASS  \n",
      "\n",
      "[1658 rows x 8 columns]\n"
     ]
    }
   ],
   "source": [
    "# Sadece indel olnaların bilgilerini göstermek.\n",
    "indels = []\n",
    "\n",
    "for variant in vcf2:\n",
    "    # Sadece indelleri seçelim: referans veya alternatif alellerin uzunluğu 1'den farklı olmalı\n",
    "    if len(variant.ref) != 1 or any(len(alt) != 1 for alt in variant.alts):\n",
    "        # Her indelin bilgilerini bir sözlük olarak saklayalım\n",
    "        indel_info = {\n",
    "            'POS': variant.pos,\n",
    "            'REF': variant.ref,\n",
    "            'ALT': \",\".join(variant.alts),\n",
    "            \"START\" : variant.start,\n",
    "            \"STOP\" : variant.stop,\n",
    "            \"ALLELEs\" : variant.alleles,\n",
    "            'QUAL': variant.qual,\n",
    "            'FILTER': ','.join(variant.filter.keys()) if variant.filter.keys() else 'PASS',\n",
    "        \n",
    "        }\n",
    "        \n",
    "        indels.append(indel_info)\n",
    "\n",
    "df_indels = pd.DataFrame(indels)\n",
    "vcf2.close\n",
    "df_indels.to_csv(\"vcf_indels_results.csv\", index=False)\n",
    "print(df_indels)"
   ]
  },
  {
   "cell_type": "code",
   "execution_count": 103,
   "id": "0e649f87-bd15-448f-98bd-e3a8fd15e6e9",
   "metadata": {},
   "outputs": [],
   "source": [
    "vcf2 = pysam.VariantFile(\"variants.raw.vcf\" , \"r\")"
   ]
  },
  {
   "cell_type": "code",
   "execution_count": 104,
   "id": "3e3d7046-7a2e-4e42-84ba-3e872ad14a34",
   "metadata": {},
   "outputs": [
    {
     "name": "stdout",
     "output_type": "stream",
     "text": [
      "          POS    ID REF ALT   START    STOP ALLELEs        QUAL FILTER\n",
      "0          78  None   C   T      77      78  (C, T)  225.417007   PASS\n",
      "1         432  None   G   T     431     432  (G, T)  225.417007   PASS\n",
      "2         478  None   G   A     477     478  (G, A)  121.415001   PASS\n",
      "3         666  None   C   G     665     666  (C, G)  225.417007   PASS\n",
      "4         672  None   G   A     671     672  (G, A)  225.417007   PASS\n",
      "...       ...   ...  ..  ..     ...     ...     ...         ...    ...\n",
      "31583  173268  None   T   C  173267  173268  (T, C)  225.417007   PASS\n",
      "31584  173674  None   C   T  173673  173674  (C, T)  225.417007   PASS\n",
      "31585  173675  None   A   C  173674  173675  (A, C)  225.417007   PASS\n",
      "31586  173714  None   C   G  173713  173714  (C, G)  225.417007   PASS\n",
      "31587  173933  None   T   C  173932  173933  (T, C)  225.417007   PASS\n",
      "\n",
      "[31588 rows x 9 columns]\n"
     ]
    }
   ],
   "source": [
    "# Sadece SNP olanların bilgilerini göstermek.\n",
    "snps = []\n",
    "\n",
    "for variant in vcf2:\n",
    "    # Sadece snpleri seçelim: referans veya alternatif alellerin uzunluğu 1'den farklı olmalı\n",
    "    if len(variant.ref) == 1 or any(len(alt) == 1 for alt in variant.alts):\n",
    "        # Her snpnin bilgilerini bir sözlük olarak saklayalım\n",
    "        snps_info = {\n",
    "            'POS': variant.pos,\n",
    "            'ID': variant.id,\n",
    "            'REF': variant.ref,\n",
    "            'ALT': \",\".join(variant.alts),\n",
    "            \"START\" : variant.start,\n",
    "            \"STOP\" : variant.stop,\n",
    "            \"ALLELEs\" : variant.alleles,\n",
    "            'QUAL': variant.qual,\n",
    "            'FILTER': ','.join(variant.filter.keys()) if variant.filter.keys() else 'PASS',\n",
    "        \n",
    "        }\n",
    "        \n",
    "        snps.append(snps_info)\n",
    "\n",
    "df_snps = pd.DataFrame(snps)\n",
    "\n",
    "df_snps.to_csv(\"vcf_snps_results.csv\", index=False)\n",
    "\n",
    "print(df_snps)"
   ]
  },
  {
   "cell_type": "code",
   "execution_count": 105,
   "id": "fbdebf6f-9719-48ed-be67-5a5fe67cfb67",
   "metadata": {},
   "outputs": [],
   "source": [
    "vcf = pysam.VariantFile(\"ALL.chrMT.phase3_callmom-v0_4.20130502.genotypes.vcf\" , \"r\")"
   ]
  },
  {
   "cell_type": "code",
   "execution_count": 106,
   "id": "ace2bf7e-26a6-4391-a87b-5fd24b39cbac",
   "metadata": {},
   "outputs": [
    {
     "name": "stdout",
     "output_type": "stream",
     "text": [
      "       POS    ID     REF                        ALT  START   STOP  \\\n",
      "0       42  None     TCC                      CCC,T     41     44   \n",
      "1       55  None  TATTTT  T,CATTTT,AATTTT,TTT,TTTTT     54     60   \n",
      "2       61  None      CG                      TA,AA     60     62   \n",
      "3       63  None      TC                      CT,AT     62     64   \n",
      "4       64  None      CT                   TT,AT,TC     63     65   \n",
      "..     ...   ...     ...                        ...    ...    ...   \n",
      "270  16355  None      CT                      TT,TC  16354  16356   \n",
      "271  16390  None       G                        A,T  16389  16390   \n",
      "272  16399  None      AC                      GC,GT  16398  16400   \n",
      "273  16519  None       T                        C,A  16518  16519   \n",
      "274  16524  None       A                        G,C  16523  16524   \n",
      "\n",
      "                                     ALLELES   QUAL FILTER  \n",
      "0                              (TCC, CCC, T)  100.0     fa  \n",
      "1    (TATTTT, T, CATTTT, AATTTT, TTT, TTTTT)  100.0     fa  \n",
      "2                               (CG, TA, AA)  100.0     fa  \n",
      "3                               (TC, CT, AT)  100.0     fa  \n",
      "4                           (CT, TT, AT, TC)  100.0     fa  \n",
      "..                                       ...    ...    ...  \n",
      "270                             (CT, TT, TC)  100.0     fa  \n",
      "271                                (G, A, T)  100.0     fa  \n",
      "272                             (AC, GC, GT)  100.0     fa  \n",
      "273                                (T, C, A)  100.0     fa  \n",
      "274                                (A, G, C)  100.0     fa  \n",
      "\n",
      "[275 rows x 9 columns]\n"
     ]
    }
   ],
   "source": [
    "\n",
    "variant_data =[]\n",
    "for variant in vcf:\n",
    "    # Alternatif alellerin sayısını kontrol et\n",
    "    if len(variant.alleles) > 2:\n",
    "        multi_alel = {\n",
    "            'POS': variant.pos,\n",
    "            'ID': variant.id,\n",
    "            'REF': variant.ref,\n",
    "            'ALT': \",\".join(variant.alts),\n",
    "            \"START\" : variant.start,\n",
    "            \"STOP\" : variant.stop,\n",
    "            \"ALLELES\" : variant.alleles,\n",
    "            'QUAL': variant.qual,\n",
    "            'FILTER': ','.join(variant.filter.keys()) if variant.filter.keys() else 'PASS'\n",
    "            \n",
    "        }\n",
    "        variant_data.append(multi_alel)\n",
    "# Veriyi DataFrame'e dönüştür\n",
    "df_multiallelic = pd.DataFrame(variant_data)\n",
    "\n",
    "df_multiallelic.to_csv(\"vcf_mutiallels_results.csv\")\n",
    "\n",
    "print(df_multiallelic)"
   ]
  },
  {
   "cell_type": "code",
   "execution_count": 32,
   "id": "943d5057-4051-4c5a-b03f-aa9c35826105",
   "metadata": {},
   "outputs": [],
   "source": []
  }
 ],
 "metadata": {
  "kernelspec": {
   "display_name": "Python 3 (ipykernel)",
   "language": "python",
   "name": "python3"
  },
  "language_info": {
   "codemirror_mode": {
    "name": "ipython",
    "version": 3
   },
   "file_extension": ".py",
   "mimetype": "text/x-python",
   "name": "python",
   "nbconvert_exporter": "python",
   "pygments_lexer": "ipython3",
   "version": "3.12.3"
  }
 },
 "nbformat": 4,
 "nbformat_minor": 5
}
