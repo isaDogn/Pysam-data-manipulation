{
 "cells": [
  {
   "cell_type": "code",
   "execution_count": 2,
   "id": "2bb0ff03-431d-45c7-b70e-f4c41ac88050",
   "metadata": {},
   "outputs": [],
   "source": [
    "import pysam                           "
   ]
  },
  {
   "cell_type": "code",
   "execution_count": 3,
   "id": "59ad497c-448b-4ee2-bb1e-df31f586c8c6",
   "metadata": {
    "scrolled": true
   },
   "outputs": [
    {
     "name": "stdout",
     "output_type": "stream",
     "text": [
      "<class 'pysam.libcalignmentfile.AlignmentFile'>\n",
      "<class 'pysam.libcalignmentfile.IteratorColumnRegion'>\n"
     ]
    }
   ],
   "source": [
    "bam = pysam.AlignmentFile(\"outpud.sorted.bam\", \"rb\") #AlignmentFile\n",
    "print(type(bam))\n",
    "bam_head = bam.header #AligmentHeader\n",
    "bam_col = bam.pileup(\"NC_008611.1\", 0, 20)\n",
    "print(type(bam_col))\n"
   ]
  },
  {
   "cell_type": "code",
   "execution_count": 4,
   "id": "46e7f6fe-8ef9-4ae7-a5fb-ac11a5053229",
   "metadata": {},
   "outputs": [
    {
     "name": "stdout",
     "output_type": "stream",
     "text": [
      "@HD\tVN:1.5\tSO:coordinate\n",
      "@SQ\tSN:NC_008611.1\tLN:5631606\n",
      "@SQ\tSN:NC_005916.1\tLN:174155\n",
      "@PG\tID:bwa\tPN:bwa\tVN:0.7.18-r1243-dirty\tCL:bwa mem -t 8 ref/Ayg99.fna R1.trim.fastq.gz R2.trim.fastq.gz\n",
      "@PG\tID:samtools\tPN:samtools\tPP:bwa\tVN:1.20\tCL:samtools sort -o outpud.sorted.bam -\n",
      "\n"
     ]
    }
   ],
   "source": [
    "bamfile = pysam.AlignmentFile(\"outpud.sorted.bam\", \"rb\") #AligmnmentFile class\n",
    "head_bam = bamfile.header #AligmentHeader Class\n",
    "print(head_bam)"
   ]
  },
  {
   "cell_type": "code",
   "execution_count": 5,
   "id": "380b3985-a6b3-4322-9abe-a16d4bc96f78",
   "metadata": {},
   "outputs": [
    {
     "name": "stdout",
     "output_type": "stream",
     "text": [
      "('NC_008611.1', 'NC_005916.1')\n"
     ]
    }
   ],
   "source": [
    "print(bamfile.references)"
   ]
  },
  {
   "cell_type": "code",
   "execution_count": 6,
   "id": "b7fc15fd-f69b-4c8a-81c8-d4242bb66735",
   "metadata": {},
   "outputs": [],
   "source": [
    "iterator = bamfile.pileup(\"NC_008611.1\", 0, 20) #IteratorColumnRegion class"
   ]
  },
  {
   "cell_type": "code",
   "execution_count": 7,
   "id": "23e84df0-f9f0-4eef-9cf1-95ea6ece0acc",
   "metadata": {
    "scrolled": true
   },
   "outputs": [
    {
     "name": "stdout",
     "output_type": "stream",
     "text": [
      "0\n",
      "cigarstring: 13S238M\n",
      "cigar tuples:          [(4, 13), (0, 238)]\n",
      "flag:          163\n",
      "\n",
      "referans pozisyon:          [None, None, None, None, None, None, None, None, None, None, None, None, None, 0, 1, 2, 3, 4, 5, 6, 7, 8, 9, 10, 11, 12, 13, 14, 15, 16, 17, 18, 19, 20, 21, 22, 23, 24, 25, 26, 27, 28, 29, 30, 31, 32, 33, 34, 35, 36, 37, 38, 39, 40, 41, 42, 43, 44, 45, 46, 47, 48, 49, 50, 51, 52, 53, 54, 55, 56, 57, 58, 59, 60, 61, 62, 63, 64, 65, 66, 67, 68, 69, 70, 71, 72, 73, 74, 75, 76, 77, 78, 79, 80, 81, 82, 83, 84, 85, 86, 87, 88, 89, 90, 91, 92, 93, 94, 95, 96, 97, 98, 99, 100, 101, 102, 103, 104, 105, 106, 107, 108, 109, 110, 111, 112, 113, 114, 115, 116, 117, 118, 119, 120, 121, 122, 123, 124, 125, 126, 127, 128, 129, 130, 131, 132, 133, 134, 135, 136, 137, 138, 139, 140, 141, 142, 143, 144, 145, 146, 147, 148, 149, 150, 151, 152, 153, 154, 155, 156, 157, 158, 159, 160, 161, 162, 163, 164, 165, 166, 167, 168, 169, 170, 171, 172, 173, 174, 175, 176, 177, 178, 179, 180, 181, 182, 183, 184, 185, 186, 187, 188, 189, 190, 191, 192, 193, 194, 195, 196, 197, 198, 199, 200, 201, 202, 203, 204, 205, 206, 207, 208, 209, 210, 211, 212, 213, 214, 215, 216, 217, 218, 219, 220, 221, 222, 223, 224, 225, 226, 227, 228, 229, 230, 231, 232, 233, 234, 235, 236, 237]\n",
      "\n",
      "tag:        77C160\n",
      "tüm tagler:        [('NM', 1), ('MD', '77C160'), ('MC', '130M'), ('MQ', 60), ('AS', 233), ('XS', 0)]\n",
      "flag:          251\n",
      "duplikasyon durumu:        False\n",
      "forward mı?:        True\n",
      "hizalanmış mı?:        True\n",
      "is paired? :        True\n",
      "kalitesiz mi?:        False\n",
      "read1 mı?:        False\n",
      "template uzunluğu:        643\n",
      "hizalama kalitesi:        60\n",
      "modified base:        {}\n",
      "modified base:        {}\n",
      "pos:     0\n",
      "hizalanan okuma başlangıç index:        13\n",
      "hizalanan okuma bitiş index:        251\n",
      "hizlanan okuma uzunluğu:        238\n",
      "hizalanan okuma sekans:          TTGACCAATGACCCCGGTTCCGGTTTCGCCGCAGTGTGGAATGCCGTCGTCGCTGAGCTCAACGGAGAACCCAACACTGATGGTGATGCCGGCACCGGCACCACTTTGACCAGTCCACTAACCCCCCAGCAAAGAGCTTGGTTGAACCTCGTCCAACCGCTCACCATCGTTGAGGGGTTTGCTCTGCTGTCGGTCCCGAGCAGCTTTGTGCAAAACGAGATCGAACGCCACCTGCGCA\n",
      "okuma adı:          M01941:8:000000000-BRBPM:1:1106:22298:16203\n",
      "referans adı:        NC_008611.1\n",
      "referans id:        0\n",
      "referans başlangıç:        0\n",
      "referans bitiş:        238\n",
      "referans uzunluğu:        238\n",
      "\n",
      "\n"
     ]
    }
   ],
   "source": [
    "count = 0 \n",
    "for p_col in iterator: #PileupColumn class     \n",
    "    print(p_col.pos)\n",
    "    \n",
    "    for read in p_col.pileups: # PileupRead class\n",
    "        al_seg = read.alignment #AligmentSegment class\n",
    "        print(f\"cigarstring: {al_seg.cigarstring}\")\n",
    "        print(f\"cigar tuples:          {al_seg.cigartuples}\")\n",
    "        print(f\"flag:          {al_seg.flag}\")\n",
    "        # print(f\"eşeleşmeleri göster:          {al_seg.get_aligned_pairs(matches_only=True, with_seq=True)}\")\n",
    "        # print(f\"pozisyon eşleşmeleri:   {al_seg.get_aligned_pairs(matches_only=True , with_seq=True)}\")  \n",
    "        # burda da eşleşmeler gösteriliyor fakat sadece eşleşenlerin sadece eşleşme olan bölgeleri ve \n",
    "        # eşleşen nücleotidleri gösterip göstemiyeceğimce karar veriyoruz.\n",
    "        #2 print(f\"flag:          {al_seg.get_blocks}\") çalıştırmadım\n",
    "        print()\n",
    "        print(f\"referans pozisyon:          {al_seg.get_reference_positions(full_length=True)}\")\n",
    "        print()\n",
    "        print(f\"tag:        {al_seg.get_tag(\"MD\")}\") # bam dosyasında bulunan NM MD MC\tMQ AS gibi tagleri görüntülemeyi sağlar.\n",
    "        print(f\"tüm tagler:        {al_seg.get_tags(with_value_type=False)}\") # okumadaki tüm tagleri gösterir.\n",
    "        print(f\"flag:          {al_seg.infer_query_length(always=False)}\")\n",
    "        print(f\"duplikasyon durumu:        {al_seg.is_duplicate}\") # PCR duplikası olup olmadığını kontrol eder.\n",
    "        print(f\"forward mı?:        {al_seg.is_forward}\") # tersi {al_seg.is_reverse}\n",
    "        print(f\"hizalanmış mı?:        {al_seg.is_mapped}\") # tam tersi {al_seg.is_unmapped} hizalanmamış mı?\n",
    "        print(f\"is paired? :        {al_seg.is_paired}\") # paired-end single-end kontrolü\n",
    "        print(f\"kalitesiz mi?:        {al_seg.is_qcfail}\") # kalite kontolü doğrulama\n",
    "        print(f\"read1 mı?:        {al_seg.is_read1}\") # tersi {al_segl_seg\n",
    "        print(f\"template uzunluğu:        {al_seg.template_length}\") #isize tam olarak ne kafamı karıştırdı ?????\n",
    "        print(f\"hizalama kalitesi:        {al_seg.mapping_quality}\")\n",
    "        ### print(f\"tersiyle eşleşmiş mi:        {al_seg.mate_is_reverse}\") # eğer okuma ileriyse ters ile eşleşmiş mi? \n",
    "        # .mate_is.. eşiyle ilgili başka sorgulamlarda vardır.\n",
    "        print(f\"modified base:        {al_seg.modified_bases}\")\n",
    "        print(f\"modified base:        {al_seg.modified_bases_forward}\") # üsttekiyle birlikte tekrar bakılacak.\n",
    "        #print(f\"flag:        {al_seg.next_reference_name}\")\n",
    "        #print(f\"flag:        {al_seg.next_reference_id}\")\n",
    "        #print(f\"flag:        {al_seg.next_reference_start}\")\n",
    "        print(f\"pos:     {al_seg.pos}\") # referans başlangıcı {reference_start} python index 0 olduğu için aslında 1 demek\n",
    "        print(f\"hizalanan okuma başlangıç index:        {al_seg.query_alignment_start}\")\n",
    "        print(f\"hizalanan okuma bitiş index:        {al_seg.query_alignment_end}\") \n",
    "        print(f\"hizlanan okuma uzunluğu:        {al_seg.query_alignment_length}\")\n",
    "        #print(f\"toplam okuma uzunluğu:        {al_seg.query_length}\")\n",
    "        # print(f\"hizalanan okuma kalitesi:        {al_seg.query_alignment_qualities}\") # hizalan her base ın okuma kalitesini gösterir.\n",
    "        # print(f\"okuma kalitesi:        {al_seg.query_qualities}\")\n",
    "        print(f\"hizalanan okuma sekans:          {al_seg.query_alignment_sequence}\")\n",
    "        #print(f\"tüm okuma sekansı:          {al_seg.query_sequence}\")\n",
    "        print(f\"okuma adı:          {al_seg.query_name}\")\n",
    "        print(f\"referans adı:        {al_seg.reference_name}\")\n",
    "        print(f\"referans id:        {al_seg.reference_id}\")\n",
    "        print(f\"referans başlangıç:        {al_seg.reference_start}\")\n",
    "        print(f\"referans bitiş:        {al_seg.reference_end}\")\n",
    "        print(f\"referans uzunluğu:        {al_seg.reference_length}\")\n",
    "        print()\n",
    "        \n",
    "        \n",
    "        \n",
    "        \n",
    "        \n",
    "        print()\n",
    "        \n",
    "        count += 1  \n",
    "        \n",
    "        if count >= 1:  \n",
    "            break\n",
    "    if count >= 1:  \n",
    "        break"
   ]
  },
  {
   "cell_type": "code",
   "execution_count": 92,
   "id": "1898ffd2-1bfc-4808-8779-7fcddffd423e",
   "metadata": {},
   "outputs": [],
   "source": [
    "iterator2 = bamfile.pileup(\"NC_008611.1\", 0, 100000) #IteratorColumnRegion class\n"
   ]
  },
  {
   "cell_type": "code",
   "execution_count": 93,
   "id": "6e5db0f7-ad5f-4e67-8e42-80829fab8911",
   "metadata": {
    "scrolled": true
   },
   "outputs": [
    {
     "name": "stdout",
     "output_type": "stream",
     "text": [
      "Silme tespit edildi: 10347\n",
      "Read name: M01938:202:000000000-C4DMT:1:1114:8705:10235\n",
      "Mapping quality: 60\n",
      "Mapping quality: 117M4I3M6D5M2I9M1I6M1D53M\n",
      "Query sequence: CCGGCTCCGGTCAAGGCCCCGCCGCCGGAGGCCGAAGCCCCACCGGTGCGTGGCGAGAACCTCCCGGCGGAGGTCTACGCCAGCGAACTGCCCGATCTGTCCGCACCGGCCATCGGATGGGCCCCGGAATTGTCCGCCCCACGATCGGGGGCGGACAATTCCGGGGCCCATCCGATGGCCGGTGCGGCACGGTCGGCGGC\n",
      "\n",
      "Silme tespit edildi: 10348\n",
      "Read name: M01938:202:000000000-C4DMT:1:1114:8705:10235\n",
      "Mapping quality: 60\n",
      "Mapping quality: 117M4I3M6D5M2I9M1I6M1D53M\n",
      "Query sequence: CCGGCTCCGGTCAAGGCCCCGCCGCCGGAGGCCGAAGCCCCACCGGTGCGTGGCGAGAACCTCCCGGCGGAGGTCTACGCCAGCGAACTGCCCGATCTGTCCGCACCGGCCATCGGATGGGCCCCGGAATTGTCCGCCCCACGATCGGGGGCGGACAATTCCGGGGCCCATCCGATGGCCGGTGCGGCACGGTCGGCGGC\n",
      "\n",
      "Silme tespit edildi: 10349\n",
      "Read name: M01938:202:000000000-C4DMT:1:1114:8705:10235\n",
      "Mapping quality: 60\n",
      "Mapping quality: 117M4I3M6D5M2I9M1I6M1D53M\n",
      "Query sequence: CCGGCTCCGGTCAAGGCCCCGCCGCCGGAGGCCGAAGCCCCACCGGTGCGTGGCGAGAACCTCCCGGCGGAGGTCTACGCCAGCGAACTGCCCGATCTGTCCGCACCGGCCATCGGATGGGCCCCGGAATTGTCCGCCCCACGATCGGGGGCGGACAATTCCGGGGCCCATCCGATGGCCGGTGCGGCACGGTCGGCGGC\n",
      "\n",
      "Silme tespit edildi: 10350\n",
      "Read name: M01938:202:000000000-C4DMT:1:1114:8705:10235\n",
      "Mapping quality: 60\n",
      "Mapping quality: 117M4I3M6D5M2I9M1I6M1D53M\n",
      "Query sequence: CCGGCTCCGGTCAAGGCCCCGCCGCCGGAGGCCGAAGCCCCACCGGTGCGTGGCGAGAACCTCCCGGCGGAGGTCTACGCCAGCGAACTGCCCGATCTGTCCGCACCGGCCATCGGATGGGCCCCGGAATTGTCCGCCCCACGATCGGGGGCGGACAATTCCGGGGCCCATCCGATGGCCGGTGCGGCACGGTCGGCGGC\n",
      "\n",
      "Silme tespit edildi: 10351\n",
      "Read name: M01938:202:000000000-C4DMT:1:1114:8705:10235\n",
      "Mapping quality: 60\n",
      "Mapping quality: 117M4I3M6D5M2I9M1I6M1D53M\n",
      "Query sequence: CCGGCTCCGGTCAAGGCCCCGCCGCCGGAGGCCGAAGCCCCACCGGTGCGTGGCGAGAACCTCCCGGCGGAGGTCTACGCCAGCGAACTGCCCGATCTGTCCGCACCGGCCATCGGATGGGCCCCGGAATTGTCCGCCCCACGATCGGGGGCGGACAATTCCGGGGCCCATCCGATGGCCGGTGCGGCACGGTCGGCGGC\n",
      "\n"
     ]
    }
   ],
   "source": [
    "# Sadece delesyon bulunan okumaları ayıklamak ve çeşitli bilgiler almak.\n",
    "count2 = 0\n",
    "for pileupcolumn in iterator2:\n",
    "    \n",
    "    for pileupread in pileupcolumn.pileups:\n",
    "        # Silme (deletion) kontrolü\n",
    "        if pileupread.is_del != 0:\n",
    "            print(f\"Silme tespit edildi: {pileupcolumn.reference_pos}\")\n",
    "            print(f\"Read name: {pileupread.alignment.query_name}\")\n",
    "            print(f\"Mapping quality: {pileupread.alignment.mapping_quality}\")\n",
    "            print(f\"Mapping quality: {pileupread.alignment.cigarstring}\")\n",
    "            print(f\"Query sequence: {pileupread.alignment.query_sequence}\")\n",
    "            print()\n",
    "            count2 += 1  \n",
    "        \n",
    "        if count2 >= 5:  \n",
    "            break\n",
    "    if count2 >= 5:  \n",
    "        break\n",
    "            "
   ]
  },
  {
   "cell_type": "code",
   "execution_count": 94,
   "id": "2742ed73-2621-4cfd-bf59-f3bdee0fe031",
   "metadata": {},
   "outputs": [],
   "source": [
    "iterator3 = bamfile.pileup(\"NC_008611.1\", 0, 100000)"
   ]
  },
  {
   "cell_type": "code",
   "execution_count": 95,
   "id": "ce8643d1-9407-4ecf-b8e1-1dcb99f2a2ec",
   "metadata": {
    "scrolled": true
   },
   "outputs": [
    {
     "name": "stdout",
     "output_type": "stream",
     "text": [
      "Indel detected at position: 1626\n",
      "Read name: M01941:8:000000000-BRBPM:1:2107:6669:5103\n",
      "Indel length: 1\n",
      "Insertion of length 1\n",
      "\n",
      "Indel detected at position: 1626\n",
      "Read name: M01941:8:000000000-BRBPM:1:1101:16265:9251\n",
      "Indel length: 1\n",
      "Insertion of length 1\n",
      "\n",
      "Indel detected at position: 1626\n",
      "Read name: M01938:202:000000000-C4DMT:1:2108:9836:16739\n",
      "Indel length: 1\n",
      "Insertion of length 1\n",
      "\n",
      "Indel detected at position: 1626\n",
      "Read name: M01938:202:000000000-C4DMT:1:2113:19561:25259\n",
      "Indel length: 1\n",
      "Insertion of length 1\n",
      "\n",
      "Indel detected at position: 1626\n",
      "Read name: M01938:202:000000000-C4DMT:1:2114:20290:19638\n",
      "Indel length: 1\n",
      "Insertion of length 1\n",
      "\n"
     ]
    }
   ],
   "source": [
    "# Sadece indel bulunan okumaları ayıklamak ve çeşitli bilgiler almak.\n",
    "count3 = 0\n",
    "for pileupcolumn in iterator3:\n",
    "    for pileupread in pileupcolumn.pileups:\n",
    "        if pileupread.indel != 0:\n",
    "            print(f\"Indel detected at position: {pileupcolumn.pos}\")\n",
    "            print(f\"Read name: {pileupread.alignment.query_name}\")\n",
    "            print(f\"Indel length: {pileupread.indel}\")\n",
    "            if pileupread.indel > 0:\n",
    "                print(f\"Insertion of length {pileupread.indel}\")\n",
    "            elif pileupread.indel < 0:\n",
    "                print(f\"Deletion of length {-pileupread.indel}\")\n",
    "            print()    \n",
    "            count3 += 1  \n",
    "        \n",
    "        if count3 >= 5:  \n",
    "            break\n",
    "    if count3 >= 5:  \n",
    "        break\n",
    "\n"
   ]
  },
  {
   "cell_type": "code",
   "execution_count": 104,
   "id": "79ff09ae-1485-4505-bf0b-de3c915b9c05",
   "metadata": {},
   "outputs": [],
   "source": [
    "iterator4 = bamfile.pileup(\"NC_008611.1\", 0, 100000)"
   ]
  },
  {
   "cell_type": "code",
   "execution_count": 105,
   "id": "85cd3862-f2c0-4529-9f2b-2fa0a728d3f7",
   "metadata": {
    "scrolled": true
   },
   "outputs": [
    {
     "name": "stdout",
     "output_type": "stream",
     "text": [
      "Position: 0\n",
      "Read name: M01941:8:000000000-BRBPM:1:1106:22298:16203\n",
      "Mapping quality: 60\n",
      "\n",
      "Position: 0\n",
      "Read name: M01941:8:000000000-BRBPM:1:2104:22732:16958\n",
      "Mapping quality: 60\n",
      "\n",
      "Position: 0\n",
      "Read name: M01941:8:000000000-BRBPM:1:2112:21950:12216\n",
      "Mapping quality: 60\n",
      "\n",
      "Position: 0\n",
      "Read name: M01938:202:000000000-C4DMT:1:1101:4666:21750\n",
      "Mapping quality: 60\n",
      "\n",
      "Position: 0\n",
      "Read name: M01938:202:000000000-C4DMT:1:1104:21448:26806\n",
      "Mapping quality: 60\n",
      "\n"
     ]
    }
   ],
   "source": [
    "# Referans ile baştan eşleşenleri ayıklar.\n",
    "count4 = 0\n",
    "for pileupcolumn in iterator4:\n",
    "    for pileupread in pileupcolumn.pileups:\n",
    "        if pileupread.is_head:\n",
    "            print(f\"Position: {pileupcolumn.pos}\")\n",
    "            print(f\"Read name: {pileupread.alignment.query_name}\")\n",
    "            print(f\"Mapping quality: {pileupread.alignment.mapping_quality}\")\n",
    "            print()\n",
    "            count4 += 1  # Correct increment\n",
    "        \n",
    "        if count4 >= 5:  # Check condition inside the inner loop\n",
    "            break\n",
    "    if count4 >= 5:  # Check condition inside the outer loop\n",
    "        break"
   ]
  },
  {
   "cell_type": "code",
   "execution_count": 106,
   "id": "d0b631ae-9e12-441b-8d67-22efc54edf86",
   "metadata": {},
   "outputs": [],
   "source": [
    "iterator5 = bamfile.pileup(\"NC_008611.1\", 0, 100000)"
   ]
  },
  {
   "cell_type": "code",
   "execution_count": 107,
   "id": "4997d57c-bc35-486c-a3c0-11855ca50507",
   "metadata": {
    "scrolled": true
   },
   "outputs": [
    {
     "name": "stdout",
     "output_type": "stream",
     "text": [
      "Position: 54\n",
      "Read name: M01938:202:000000000-C4DMT:1:2106:28394:20238\n",
      "Mapping quality: 60\n",
      "\n",
      "Position: 54\n",
      "Read name: M01938:202:000000000-C4DMT:1:2106:28394:20238\n",
      "Mapping quality: 60\n",
      "\n",
      "Position: 76\n",
      "Read name: M01941:8:000000000-BRBPM:1:2104:22732:16958\n",
      "Mapping quality: 60\n",
      "\n",
      "Position: 76\n",
      "Read name: M01938:202:000000000-C4DMT:1:1104:21448:26806\n",
      "Mapping quality: 60\n",
      "\n",
      "Position: 101\n",
      "Read name: M01938:202:000000000-C4DMT:1:2112:11794:28667\n",
      "Mapping quality: 60\n",
      "\n"
     ]
    }
   ],
   "source": [
    "# Referans ile sondan eşleşenleri ayıklar.\n",
    "count5 = 0\n",
    "for pileupcolumn in iterator5:\n",
    "    for pileupread in pileupcolumn.pileups:\n",
    "        if pileupread.is_tail:\n",
    "            print(f\"Position: {pileupcolumn.pos}\")\n",
    "            print(f\"Read name: {pileupread.alignment.query_name}\")\n",
    "            print(f\"Mapping quality: {pileupread.alignment.mapping_quality}\")\n",
    "            print()\n",
    "            count5 += 1  # Correct increment\n",
    "        \n",
    "        if count5 >= 5:  # Check condition inside the inner loop\n",
    "            break\n",
    "    if count5 >= 5:  # Check condition inside the outer loop\n",
    "        break"
   ]
  },
  {
   "cell_type": "code",
   "execution_count": 108,
   "id": "64e50e0a-0dae-4655-b527-e43abbc1a2fa",
   "metadata": {},
   "outputs": [],
   "source": [
    "iterator6 = bamfile.pileup(\"NC_008611.1\", 0, 100000)"
   ]
  },
  {
   "cell_type": "code",
   "execution_count": 111,
   "id": "f1b1f6fa-d85d-4067-b509-1f03b37c5883",
   "metadata": {},
   "outputs": [],
   "source": [
    "# Bam dosyasında CIGAR kolonun N bulunması gerekli bu yüzden herhangi bir çktı alınmıyor. Çıktı vermesi durumunda hizalanan \n",
    "# okumanın referans dizideki bir bazı atladığını veya bu bazın hizalama sırasında atlandığını ifade eder.\n",
    "for pileupcolumn in iterator6:\n",
    "    for pileupread in pileupcolumn.pileups:\n",
    "        if pileupread.is_refskip:\n",
    "            print(f\"Position: {pileupcolumn.pos}\")\n",
    "            print(f\"Read name: {pileupread.alignment.query_name}\")\n",
    "            print(f\"Mapping quality: {pileupread.alignment.mapping_quality}\")\n",
    "            print()\n",
    "         "
   ]
  },
  {
   "cell_type": "code",
   "execution_count": 113,
   "id": "4626283b-c416-4384-94a9-2a677bd000cf",
   "metadata": {},
   "outputs": [],
   "source": [
    "bamfile.close()"
   ]
  }
 ],
 "metadata": {
  "kernelspec": {
   "display_name": "Python 3 (ipykernel)",
   "language": "python",
   "name": "python3"
  },
  "language_info": {
   "codemirror_mode": {
    "name": "ipython",
    "version": 3
   },
   "file_extension": ".py",
   "mimetype": "text/x-python",
   "name": "python",
   "nbconvert_exporter": "python",
   "pygments_lexer": "ipython3",
   "version": "3.12.3"
  }
 },
 "nbformat": 4,
 "nbformat_minor": 5
}
